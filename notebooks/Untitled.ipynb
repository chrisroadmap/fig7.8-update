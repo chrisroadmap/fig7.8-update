{
 "cells": [
  {
   "cell_type": "code",
   "execution_count": null,
   "id": "6313b782-5be7-4a7a-a31f-d3b19fcf25dc",
   "metadata": {},
   "outputs": [],
   "source": [
    "import xarray as xr\n",
    "from fair.energy_balance_model import multi_ebm, step_temperature\n",
    "from tqdm.auto import tqdm\n",
    "import numpy as np\n",
    "import pooch\n",
    "import pandas as pd\n",
    "import matplotlib.pyplot as pl"
   ]
  },
  {
   "cell_type": "code",
   "execution_count": null,
   "id": "d31c5899-03a4-4d26-ac65-d983c70c34cb",
   "metadata": {},
   "outputs": [],
   "source": [
    "# this won't work for anybody except me :)\n",
    "# if you want this file, run the code at https://github.com/ClimateIndicator/forcing-timeseries/blob/main/notebooks/make-forcing.ipynb"
   ]
  },
  {
   "cell_type": "code",
   "execution_count": null,
   "id": "a4f8e167-ac4f-44f6-a30d-bfe1efc94514",
   "metadata": {},
   "outputs": [],
   "source": [
    "ds = xr.load_dataset('/nfs/b0110/Users/mencsm/git/ClimateIndicator/forcing-timeseries/output/ERF_ensemble.nc')"
   ]
  },
  {
   "cell_type": "code",
   "execution_count": null,
   "id": "1c20ce5a-0113-48d1-b4b4-1d40eb5aae63",
   "metadata": {},
   "outputs": [],
   "source": [
    "variables = list(ds.keys())"
   ]
  },
  {
   "cell_type": "code",
   "execution_count": null,
   "id": "e0dd46f8-f2ce-4719-bb0c-53879906e53f",
   "metadata": {},
   "outputs": [],
   "source": [
    "total     = np.zeros((273, 100000))\n",
    "natural   = np.zeros((273, 100000))\n",
    "aerosol   = np.zeros((273, 100000))\n",
    "wmghg     = np.zeros((273, 100000))\n",
    "other_ant = np.zeros((273, 100000))\n",
    "\n",
    "for variable in tqdm(variables):\n",
    "    #print(variable)\n",
    "    total = total + ds[variable]\n",
    "    if variable in ['solar', 'volcanic']:\n",
    "        natural = natural + ds[variable]\n",
    "    elif variable not in [\n",
    "        'aerosol-radiation_interactions', 'aerosol-cloud_interactions',\n",
    "        'O3', 'H2O_stratospheric', 'contrails', 'BC_on_snow', 'land_use'\n",
    "    ]:\n",
    "        wmghg = wmghg + ds[variable]\n",
    "    elif variable in ['aerosol-radiation_interactions', 'aerosol-cloud_interactions']:\n",
    "        aerosol = aerosol + ds[variable]\n",
    "    else:\n",
    "        other_ant = other_ant + ds[variable]\n",
    "\n",
    "anthro = total - natural"
   ]
  },
  {
   "cell_type": "code",
   "execution_count": null,
   "id": "5f20a93d-39c6-46b5-b9f9-7717463a6053",
   "metadata": {},
   "outputs": [],
   "source": [
    "np.max(np.abs(total - natural - aerosol - wmghg - other_ant))"
   ]
  },
  {
   "cell_type": "code",
   "execution_count": null,
   "id": "5f94d461-958a-44ce-b9dc-1e3fa7d8a869",
   "metadata": {},
   "outputs": [],
   "source": [
    "cal_1_2_0_obj = pooch.retrieve(\n",
    "    \"https://zenodo.org/record/8399112/files/calibrated_constrained_parameters.csv\",\n",
    "    known_hash = \"md5:de3b83432b9d071efdd1427ad31e9076\"\n",
    ")"
   ]
  },
  {
   "cell_type": "code",
   "execution_count": null,
   "id": "e97f78e1-c12e-41e9-aeb8-bb12e8ee60d9",
   "metadata": {},
   "outputs": [],
   "source": [
    "cal = pd.read_csv(cal_1_2_0_obj, index_col=0)"
   ]
  },
  {
   "cell_type": "code",
   "execution_count": null,
   "id": "01467f27-0682-46fd-b070-bdf52e30f7ad",
   "metadata": {},
   "outputs": [],
   "source": [
    "cal"
   ]
  },
  {
   "cell_type": "code",
   "execution_count": null,
   "id": "2f3e0ac1-87cb-4217-b809-17b64f556955",
   "metadata": {},
   "outputs": [],
   "source": [
    "cal.loc[:,'clim_c1':'clim_c3']"
   ]
  },
  {
   "cell_type": "code",
   "execution_count": null,
   "id": "d22c19f1-aabe-4766-9565-e8a958a73a03",
   "metadata": {},
   "outputs": [],
   "source": [
    "ebms = multi_ebm(\n",
    "    configs = cal.index,\n",
    "    ocean_heat_capacity = cal.loc[:,'clim_c1':'clim_c3'].values,\n",
    "    ocean_heat_transfer = cal.loc[:,'clim_kappa1':'clim_kappa3'].values,\n",
    "    deep_ocean_efficacy = cal['clim_epsilon'].values,\n",
    "    stochastic_run = [None]*1001,\n",
    "    sigma_eta = [0.5]*1001,\n",
    "    sigma_xi = [0.5]*1001,\n",
    "    gamma_autocorrelation = cal['clim_gamma'].values,\n",
    "    seed = [14]*1001,\n",
    "    use_seed = [False]*1001,\n",
    "    forcing_4co2 = cal['clim_F_4xCO2'].values,\n",
    "    timestep = 1,\n",
    "    timebounds = np.arange(1750, 2023),\n",
    ")"
   ]
  },
  {
   "cell_type": "code",
   "execution_count": null,
   "id": "2b1a751d-427a-47fe-a93e-20b0fdbfad57",
   "metadata": {},
   "outputs": [],
   "source": [
    "eb_matrix_d_array = ebms[\"eb_matrix_d\"].data\n",
    "forcing_vector_d_array = ebms[\"forcing_vector_d\"].data\n",
    "stochastic_d_array = ebms[\"stochastic_d\"].data"
   ]
  },
  {
   "cell_type": "code",
   "execution_count": null,
   "id": "0b202e40-413e-4202-ac50-6b0b600180da",
   "metadata": {},
   "outputs": [],
   "source": [
    "cummins_state_array = np.zeros((273, 1001, 4))"
   ]
  },
  {
   "cell_type": "code",
   "execution_count": null,
   "id": "8f623be9-cf98-4cfe-ab6c-b2af93a9bab2",
   "metadata": {},
   "outputs": [],
   "source": [
    "for i_timepoint in tqdm(range(273)):\n",
    "    cummins_state_array[\n",
    "        i_timepoint + 1 : i_timepoint + 2, ...\n",
    "    ] = step_temperature(\n",
    "        cummins_state_array[i_timepoint : i_timepoint + 1, ...],\n",
    "        eb_matrix_d_array[None, ...],\n",
    "        forcing_vector_d_array[None, ...],\n",
    "        stochastic_d_array[i_timepoint : i_timepoint + 1, ...],\n",
    "        total.data[i_timepoint : i_timepoint + 1, :1001, None],\n",
    "    )"
   ]
  },
  {
   "cell_type": "code",
   "execution_count": null,
   "id": "98e58977-59b3-40fd-8611-481f7fb53d8c",
   "metadata": {},
   "outputs": [],
   "source": [
    "cummins_state_array.shape"
   ]
  },
  {
   "cell_type": "code",
   "execution_count": null,
   "id": "ab8b0d9e-73af-4f46-a7ee-714ebdcfcc3e",
   "metadata": {},
   "outputs": [],
   "source": [
    "pl.plot(cummins_state_array[:, :, 1]);"
   ]
  },
  {
   "cell_type": "code",
   "execution_count": null,
   "id": "b572ffb7-b38b-4f3e-b5be-eb5a16173793",
   "metadata": {},
   "outputs": [],
   "source": []
  }
 ],
 "metadata": {
  "kernelspec": {
   "display_name": "Python 3 (ipykernel)",
   "language": "python",
   "name": "python3"
  },
  "language_info": {
   "codemirror_mode": {
    "name": "ipython",
    "version": 3
   },
   "file_extension": ".py",
   "mimetype": "text/x-python",
   "name": "python",
   "nbconvert_exporter": "python",
   "pygments_lexer": "ipython3",
   "version": "3.11.6"
  }
 },
 "nbformat": 4,
 "nbformat_minor": 5
}
