{
 "cells": [
  {
   "cell_type": "code",
   "execution_count": null,
   "id": "6313b782-5be7-4a7a-a31f-d3b19fcf25dc",
   "metadata": {},
   "outputs": [],
   "source": [
    "from copy import deepcopy\n",
    "\n",
    "import matplotlib.pyplot as pl\n",
    "import numpy as np\n",
    "import pandas as pd\n",
    "import pooch\n",
    "import xarray as xr\n",
    "\n",
    "from fair import FAIR\n",
    "from fair.interface import fill, initialise\n",
    "from fair.io import read_properties"
   ]
  },
  {
   "cell_type": "code",
   "execution_count": null,
   "id": "a4f8e167-ac4f-44f6-a30d-bfe1efc94514",
   "metadata": {},
   "outputs": [],
   "source": [
    "f = FAIR(ch4_method=\"Thornhill2021\")\n",
    "f.define_time(1750, 2023, 1)\n",
    "scenarios = ['ssp245', 'ssp245-constant-2005-aer']\n",
    "f.define_scenarios(scenarios)"
   ]
  },
  {
   "cell_type": "code",
   "execution_count": null,
   "id": "1c20ce5a-0113-48d1-b4b4-1d40eb5aae63",
   "metadata": {},
   "outputs": [],
   "source": [
    "fair_params_1_2_0_obj = pooch.retrieve(\n",
    "    url = 'https://zenodo.org/record/8399112/files/calibrated_constrained_parameters.csv',\n",
    "    known_hash = 'md5:de3b83432b9d071efdd1427ad31e9076',\n",
    ")"
   ]
  },
  {
   "cell_type": "code",
   "execution_count": null,
   "id": "524e38d1-b8cb-463e-bbf8-d764cc0a559b",
   "metadata": {},
   "outputs": [],
   "source": [
    "df_configs = pd.read_csv(fair_params_1_2_0_obj, index_col=0)\n",
    "configs = df_configs.index   # this is used as a label for the \"config\" axis\n",
    "f.define_configs(configs)"
   ]
  },
  {
   "cell_type": "code",
   "execution_count": null,
   "id": "c89aa637-f705-4cb2-a1df-067ea0c71023",
   "metadata": {},
   "outputs": [],
   "source": [
    "species, properties = read_properties(filename='../data/species_configs_properties_calibration1.2.0.csv')\n",
    "f.define_species(species, properties)"
   ]
  },
  {
   "cell_type": "code",
   "execution_count": null,
   "id": "258eae0b-a98c-42e6-b84b-683418a576b0",
   "metadata": {},
   "outputs": [],
   "source": [
    "f.allocate()"
   ]
  },
  {
   "cell_type": "code",
   "execution_count": null,
   "id": "6f18f7da-d949-46c4-a7b7-21f17c0d7f45",
   "metadata": {},
   "outputs": [],
   "source": [
    "da_emissions = xr.load_dataarray('../data/ssp245_emissions_1750-2022.nc')"
   ]
  },
  {
   "cell_type": "code",
   "execution_count": null,
   "id": "d493dab5-7dd4-4c71-a05c-89f11587ac25",
   "metadata": {},
   "outputs": [],
   "source": [
    "df_slcf = pd.read_csv('../data/slcf_emissions_1750-2022.csv', index_col=0)\n",
    "df_slcf"
   ]
  },
  {
   "cell_type": "code",
   "execution_count": null,
   "id": "edb80ea7-2c01-4049-a740-c0cf676709bc",
   "metadata": {},
   "outputs": [],
   "source": [
    "da = da_emissions.loc[dict(config=\"unspecified\", scenario=\"ssp245\")]\n",
    "fe = da.expand_dims(dim=[\"scenario\", \"config\"], axis=(1, 2))\n",
    "for scenario in scenarios:\n",
    "    for config in configs:\n",
    "        f.emissions.loc[dict(scenario=scenario, config=config)] = fe.drop((\"scenario\", \"config\")).squeeze()\n",
    "        f.emissions.loc[dict(scenario=scenario, config=config, specie='Sulfur')] = df_slcf['SO2']\n",
    "        f.emissions.loc[dict(scenario=scenario, config=config, specie='BC')] = df_slcf['BC']\n",
    "        f.emissions.loc[dict(scenario=scenario, config=config, specie='OC')] = df_slcf['OC']\n",
    "        f.emissions.loc[dict(scenario=scenario, config=config, specie='NOx')] = df_slcf['NOx']\n",
    "        f.emissions.loc[dict(scenario=scenario, config=config, specie='NH3')] = df_slcf['NH3']\n",
    "        f.emissions.loc[dict(scenario=scenario, config=config, specie='CO')] = df_slcf['CO']\n",
    "        f.emissions.loc[dict(scenario=scenario, config=config, specie='VOC')] = df_slcf['NMVOC']"
   ]
  },
  {
   "cell_type": "code",
   "execution_count": null,
   "id": "00d61fc1-5429-43af-87a5-ed5b4675fadf",
   "metadata": {},
   "outputs": [],
   "source": [
    "f.emissions"
   ]
  },
  {
   "cell_type": "code",
   "execution_count": null,
   "id": "b572ffb7-b38b-4f3e-b5be-eb5a16173793",
   "metadata": {},
   "outputs": [],
   "source": [
    "f.emissions.loc[dict(scenario='ssp245-constant-2005-aer', specie='Sulfur', timepoints=np.arange(2005.5, 2023))] = f.emissions.loc[dict(scenario='ssp245-constant-2005-aer', specie='Sulfur', timepoints=np.arange(1995.5, 2005))].mean().data[()]"
   ]
  },
  {
   "cell_type": "code",
   "execution_count": null,
   "id": "c6181f13-9629-45a6-91d0-383c73cf92ae",
   "metadata": {},
   "outputs": [],
   "source": [
    "pl.plot(f.emissions.loc[\n",
    "    dict(config=config, scenario='ssp245', specie='Sulfur', timepoints=np.arange(1990.5, 2023))\n",
    "])\n",
    "pl.plot(f.emissions.loc[\n",
    "    dict(config=config, scenario='ssp245-constant-2005-aer', specie='Sulfur', timepoints=np.arange(1990.5, 2023))\n",
    "])"
   ]
  },
  {
   "cell_type": "code",
   "execution_count": null,
   "id": "83bac558-dfd1-4622-a6fa-9698ba75fc00",
   "metadata": {},
   "outputs": [],
   "source": [
    "f.emissions.loc[dict(scenario='ssp245-constant-2005-aer', specie='BC', timepoints=np.arange(2005.5, 2023))] = f.emissions.loc[dict(scenario='ssp245-constant-2005-aer', specie='BC', timepoints=np.arange(1995.5, 2005))].mean().data[()]"
   ]
  },
  {
   "cell_type": "code",
   "execution_count": null,
   "id": "fb0bf3e8-2fbe-42f6-8220-5d90ce641904",
   "metadata": {},
   "outputs": [],
   "source": [
    "f.emissions.loc[dict(scenario='ssp245-constant-2005-aer', specie='OC', timepoints=np.arange(2005.5, 2023))] = f.emissions.loc[dict(scenario='ssp245-constant-2005-aer', specie='OC', timepoints=np.arange(1995.5, 2005))].mean().data[()]"
   ]
  },
  {
   "cell_type": "code",
   "execution_count": null,
   "id": "30158a6a-8383-4448-b737-3c9271e707a0",
   "metadata": {},
   "outputs": [],
   "source": [
    "pl.plot(f.emissions.loc[\n",
    "    dict(config=config, scenario='ssp245', specie='BC', timepoints=np.arange(1990.5, 2023))\n",
    "])\n",
    "pl.plot(f.emissions.loc[\n",
    "    dict(config=config, scenario='ssp245-constant-2005-aer', specie='BC', timepoints=np.arange(1990.5, 2023))\n",
    "])"
   ]
  },
  {
   "cell_type": "code",
   "execution_count": null,
   "id": "1e3c1200-1940-4890-aa9e-3cdd44d552d0",
   "metadata": {},
   "outputs": [],
   "source": [
    "pl.plot(f.emissions.loc[\n",
    "    dict(config=config, scenario='ssp245', specie='OC', timepoints=np.arange(1990.5, 2023))\n",
    "])\n",
    "pl.plot(f.emissions.loc[\n",
    "    dict(config=config, scenario='ssp245-constant-2005-aer', specie='OC', timepoints=np.arange(1990.5, 2023))\n",
    "])"
   ]
  },
  {
   "cell_type": "code",
   "execution_count": null,
   "id": "09fb2b20-b8f8-4538-bcb2-d5211c7bf34f",
   "metadata": {},
   "outputs": [],
   "source": [
    "solar_obj = pooch.retrieve(\n",
    "    url = 'https://raw.githubusercontent.com/chrisroadmap/fair-add-hfc/main/data/solar_erf_timebounds.csv',\n",
    "    known_hash = 'md5:98f6f4c5309d848fea89803683441acf',\n",
    ")"
   ]
  },
  {
   "cell_type": "code",
   "execution_count": null,
   "id": "55c32ae9-e29f-43b8-a739-1419efda5179",
   "metadata": {},
   "outputs": [],
   "source": [
    "volcanic_obj = pooch.retrieve(\n",
    "    url = 'https://raw.githubusercontent.com/chrisroadmap/fair-calibrate/main/data/forcing/volcanic_ERF_1750-2101_timebounds.csv',\n",
    "    known_hash = 'md5:c0801f80f70195eb9567dbd70359219d',\n",
    ")"
   ]
  },
  {
   "cell_type": "code",
   "execution_count": null,
   "id": "a18f1096-0ed2-4749-9b51-cf96c1a1f08e",
   "metadata": {},
   "outputs": [],
   "source": [
    "df_solar = pd.read_csv(solar_obj, index_col=\"year\")\n",
    "df_volcanic = pd.read_csv(volcanic_obj)"
   ]
  },
  {
   "cell_type": "code",
   "execution_count": null,
   "id": "6d513b3c-30e1-40f9-a607-ed900d8eb1c7",
   "metadata": {},
   "outputs": [],
   "source": [
    "solar_forcing = np.zeros(274)\n",
    "volcanic_forcing = np.zeros(274)\n",
    "volcanic_forcing = df_volcanic.erf.values[:274]\n",
    "solar_forcing = df_solar[\"erf\"].loc[1750:2023].values\n",
    "\n",
    "trend_shape = np.ones(274)\n",
    "trend_shape[:271] = np.linspace(0, 1, 271)"
   ]
  },
  {
   "cell_type": "code",
   "execution_count": null,
   "id": "78e8262d-fdd3-468b-8662-47593d5aa058",
   "metadata": {},
   "outputs": [],
   "source": [
    "fill(\n",
    "    f.forcing,\n",
    "    volcanic_forcing[:, None, None] * df_configs[\"fscale_Volcanic\"].values.squeeze(),\n",
    "    specie=\"Volcanic\",\n",
    ")\n",
    "fill(\n",
    "    f.forcing,\n",
    "    solar_forcing[:, None, None] * df_configs[\"fscale_solar_amplitude\"].values.squeeze()\n",
    "    + trend_shape[:, None, None] * df_configs[\"fscale_solar_trend\"].values.squeeze(),\n",
    "    specie=\"Solar\",\n",
    ")"
   ]
  },
  {
   "cell_type": "code",
   "execution_count": null,
   "id": "59ad06b8-8f75-4c77-9e4d-667eee94d0fc",
   "metadata": {},
   "outputs": [],
   "source": [
    "fill(f.climate_configs[\"ocean_heat_capacity\"], df_configs.loc[:, \"clim_c1\":\"clim_c3\"].values)\n",
    "fill(\n",
    "    f.climate_configs[\"ocean_heat_transfer\"],\n",
    "    df_configs.loc[:, \"clim_kappa1\":\"clim_kappa3\"].values,\n",
    ")\n",
    "fill(f.climate_configs[\"deep_ocean_efficacy\"], df_configs[\"clim_epsilon\"].values.squeeze())\n",
    "fill(f.climate_configs[\"gamma_autocorrelation\"], df_configs[\"clim_gamma\"].values.squeeze())\n",
    "fill(f.climate_configs[\"sigma_eta\"], df_configs[\"clim_sigma_eta\"].values.squeeze())\n",
    "fill(f.climate_configs[\"sigma_xi\"], df_configs[\"clim_sigma_xi\"].values.squeeze())\n",
    "fill(f.climate_configs[\"seed\"], df_configs[\"seed\"])\n",
    "fill(f.climate_configs[\"stochastic_run\"], False)\n",
    "fill(f.climate_configs[\"use_seed\"], True)\n",
    "fill(f.climate_configs[\"forcing_4co2\"], df_configs[\"clim_F_4xCO2\"])"
   ]
  },
  {
   "cell_type": "code",
   "execution_count": null,
   "id": "2a6e9521-9c51-4898-b707-ab2fe35b34c6",
   "metadata": {},
   "outputs": [],
   "source": [
    "f.fill_species_configs(filename='../data/species_configs_properties_calibration1.2.0.csv')"
   ]
  },
  {
   "cell_type": "code",
   "execution_count": null,
   "id": "2f948148-a6e8-4a96-a41b-e92a870e710e",
   "metadata": {},
   "outputs": [],
   "source": [
    "# carbon cycle\n",
    "fill(f.species_configs[\"iirf_0\"], df_configs[\"cc_r0\"].values.squeeze(), specie=\"CO2\")\n",
    "fill(f.species_configs[\"iirf_airborne\"], df_configs[\"cc_rA\"].values.squeeze(), specie=\"CO2\")\n",
    "fill(f.species_configs[\"iirf_uptake\"], df_configs[\"cc_rU\"].values.squeeze(), specie=\"CO2\")\n",
    "fill(f.species_configs[\"iirf_temperature\"], df_configs[\"cc_rT\"].values.squeeze(), specie=\"CO2\")\n",
    "\n",
    "# aerosol indirect\n",
    "fill(f.species_configs[\"aci_scale\"], df_configs[\"aci_beta\"].values.squeeze())\n",
    "fill(f.species_configs[\"aci_shape\"], df_configs[\"aci_shape_so2\"].values.squeeze(), specie=\"Sulfur\")\n",
    "fill(f.species_configs[\"aci_shape\"], df_configs[\"aci_shape_bc\"].values.squeeze(), specie=\"BC\")\n",
    "fill(f.species_configs[\"aci_shape\"], df_configs[\"aci_shape_oc\"].values.squeeze(), specie=\"OC\")\n",
    "\n",
    "# aerosol direct\n",
    "for specie in [\n",
    "    \"BC\", \n",
    "    \"CH4\", \n",
    "    \"N2O\",\n",
    "    \"NH3\", \n",
    "    \"NOx\",\n",
    "    \"OC\", \n",
    "    \"Sulfur\", \n",
    "    \"VOC\",\n",
    "    \"Equivalent effective stratospheric chlorine\"\n",
    "]:\n",
    "    fill(f.species_configs[\"erfari_radiative_efficiency\"], df_configs[f\"ari_{specie}\"], specie=specie)\n",
    "\n",
    "# forcing scaling\n",
    "for specie in [\n",
    "    \"CO2\", \n",
    "    \"CH4\", \n",
    "    \"N2O\", \n",
    "    \"Stratospheric water vapour\",\n",
    "    \"Contrails\", \n",
    "    \"Light absorbing particles on snow and ice\", \n",
    "    \"Land use\"\n",
    "]:\n",
    "    fill(f.species_configs[\"forcing_scale\"], df_configs[f\"fscale_{specie}\"].values.squeeze(), specie=specie)\n",
    "# the halogenated gases all take the same scale factor\n",
    "for specie in [\n",
    "    \"CFC-11\",\n",
    "    \"CFC-12\",\n",
    "    \"CFC-113\",\n",
    "    \"CFC-114\",\n",
    "    \"CFC-115\",\n",
    "    \"HCFC-22\",\n",
    "    \"HCFC-141b\",\n",
    "    \"HCFC-142b\",\n",
    "    \"CCl4\",\n",
    "    \"CHCl3\",\n",
    "    \"CH2Cl2\",\n",
    "    \"CH3Cl\",\n",
    "    \"CH3CCl3\",\n",
    "    \"CH3Br\",\n",
    "    \"Halon-1211\",\n",
    "    \"Halon-1301\",\n",
    "    \"Halon-2402\",\n",
    "    \"CF4\",\n",
    "    \"C2F6\",\n",
    "    \"C3F8\",\n",
    "    \"c-C4F8\",\n",
    "    \"C4F10\",\n",
    "    \"C5F12\",\n",
    "    \"C6F14\",\n",
    "    \"C7F16\",\n",
    "    \"C8F18\",\n",
    "    \"NF3\",\n",
    "    \"SF6\",\n",
    "    \"SO2F2\",\n",
    "    \"HFC-125\",\n",
    "    \"HFC-134a\",\n",
    "    \"HFC-143a\",\n",
    "    \"HFC-152a\",\n",
    "    \"HFC-227ea\",\n",
    "    \"HFC-23\",\n",
    "    \"HFC-236fa\",\n",
    "    \"HFC-245fa\",\n",
    "    \"HFC-32\",\n",
    "    \"HFC-365mfc\",\n",
    "    \"HFC-4310mee\",\n",
    "]:\n",
    "    fill(f.species_configs[\"forcing_scale\"], df_configs[\"fscale_minorGHG\"].values.squeeze(), specie=specie)\n",
    "\n",
    "# ozone\n",
    "for specie in [\"CH4\", \"N2O\", \"Equivalent effective stratospheric chlorine\", \"CO\", \"VOC\", \"NOx\"]:\n",
    "    fill(f.species_configs[\"ozone_radiative_efficiency\"], df_configs[f\"o3_{specie}\"], specie=specie)\n",
    "\n",
    "# initial value of CO2 concentration (but not baseline for forcing calculations)\n",
    "fill(\n",
    "    f.species_configs[\"baseline_concentration\"], \n",
    "    df_configs[\"cc_co2_concentration_1750\"].values.squeeze(), \n",
    "    specie=\"CO2\"\n",
    ")"
   ]
  },
  {
   "cell_type": "code",
   "execution_count": null,
   "id": "55b292db-5026-4934-90fc-d8b7ae33c20f",
   "metadata": {},
   "outputs": [],
   "source": [
    "initialise(f.concentration, f.species_configs[\"baseline_concentration\"])\n",
    "initialise(f.forcing, 0)\n",
    "initialise(f.temperature, 0)\n",
    "initialise(f.cumulative_emissions, 0)\n",
    "initialise(f.airborne_emissions, 0)"
   ]
  },
  {
   "cell_type": "code",
   "execution_count": null,
   "id": "fb9c4071-207e-49ef-a883-b50ea98510d3",
   "metadata": {},
   "outputs": [],
   "source": [
    "f.run()"
   ]
  },
  {
   "cell_type": "code",
   "execution_count": null,
   "id": "d5134060-b147-4872-ab35-17b883541ac6",
   "metadata": {},
   "outputs": [],
   "source": [
    "pl.plot(f.temperature.loc[dict(layer=0)].median(axis=2))"
   ]
  },
  {
   "cell_type": "code",
   "execution_count": null,
   "id": "1504d6f6-7f8b-40c0-8f7a-7b16da44496b",
   "metadata": {},
   "outputs": [],
   "source": [
    "g = FAIR(ch4_method=\"Thornhill2021\")\n",
    "g.define_time(1750, 2023, 1)\n",
    "g.define_scenarios(scenarios)\n",
    "g.define_configs(configs)"
   ]
  },
  {
   "cell_type": "code",
   "execution_count": null,
   "id": "4cf1300e-8f74-4929-94ee-32adc3641998",
   "metadata": {},
   "outputs": [],
   "source": [
    "properties_noaer = deepcopy(properties)"
   ]
  },
  {
   "cell_type": "code",
   "execution_count": null,
   "id": "d186c126-5623-4703-8f04-fac3495a72de",
   "metadata": {},
   "outputs": [],
   "source": [
    "properties_noaer"
   ]
  },
  {
   "cell_type": "code",
   "execution_count": null,
   "id": "5bb44a36-91fa-4e9d-ad21-fd7ffd1f50d2",
   "metadata": {},
   "outputs": [],
   "source": [
    "properties_noaer['Aerosol-cloud interactions']['input_mode'] = 'forcing'\n",
    "properties_noaer['Aerosol-radiation interactions']['input_mode'] = 'forcing'"
   ]
  },
  {
   "cell_type": "code",
   "execution_count": null,
   "id": "4323168d-04a6-46c0-977b-02e194493215",
   "metadata": {},
   "outputs": [],
   "source": [
    "g.define_species(species, properties_noaer)"
   ]
  },
  {
   "cell_type": "code",
   "execution_count": null,
   "id": "35929c05-055c-4278-a2ce-95c7e13155a5",
   "metadata": {},
   "outputs": [],
   "source": [
    "g.allocate()"
   ]
  },
  {
   "cell_type": "code",
   "execution_count": null,
   "id": "8a8dc7cf-6b9e-46ff-a771-f3b524514a05",
   "metadata": {},
   "outputs": [],
   "source": [
    "da = da_emissions.loc[dict(config=\"unspecified\", scenario=\"ssp245\")]\n",
    "fe = da.expand_dims(dim=[\"scenario\", \"config\"], axis=(1, 2))\n",
    "for scenario in scenarios:\n",
    "    for config in configs:\n",
    "        g.emissions.loc[dict(scenario=scenario, config=config)] = fe.drop((\"scenario\", \"config\")).squeeze()\n",
    "        g.emissions.loc[dict(scenario=scenario, config=config, specie='Sulfur')] = df_slcf['SO2']\n",
    "        g.emissions.loc[dict(scenario=scenario, config=config, specie='BC')] = df_slcf['BC']\n",
    "        g.emissions.loc[dict(scenario=scenario, config=config, specie='OC')] = df_slcf['OC']\n",
    "        g.emissions.loc[dict(scenario=scenario, config=config, specie='NOx')] = df_slcf['NOx']\n",
    "        g.emissions.loc[dict(scenario=scenario, config=config, specie='NH3')] = df_slcf['NH3']\n",
    "        g.emissions.loc[dict(scenario=scenario, config=config, specie='CO')] = df_slcf['CO']\n",
    "        g.emissions.loc[dict(scenario=scenario, config=config, specie='VOC')] = df_slcf['NMVOC']"
   ]
  },
  {
   "cell_type": "code",
   "execution_count": null,
   "id": "6c7d8053-bd84-413d-8b06-300ac7a84a9f",
   "metadata": {},
   "outputs": [],
   "source": [
    "g.emissions.loc[dict(scenario='ssp245-constant-2005-aer', specie='Sulfur', timepoints=np.arange(2005.5, 2023))] = g.emissions.loc[dict(scenario='ssp245-constant-2005-aer', specie='Sulfur', timepoints=np.arange(1995.5, 2005))].mean().data[()]\n",
    "g.emissions.loc[dict(scenario='ssp245-constant-2005-aer', specie='BC', timepoints=np.arange(2005.5, 2023))] = g.emissions.loc[dict(scenario='ssp245-constant-2005-aer', specie='BC', timepoints=np.arange(1995.5, 2005))].mean().data[()]\n",
    "g.emissions.loc[dict(scenario='ssp245-constant-2005-aer', specie='OC', timepoints=np.arange(2005.5, 2023))] = g.emissions.loc[dict(scenario='ssp245-constant-2005-aer', specie='OC', timepoints=np.arange(1995.5, 2005))].mean().data[()]"
   ]
  },
  {
   "cell_type": "code",
   "execution_count": null,
   "id": "efc4ea6a-294e-46e4-a7bc-1c687d57b985",
   "metadata": {},
   "outputs": [],
   "source": [
    "fill(\n",
    "    g.forcing,\n",
    "    volcanic_forcing[:, None, None] * df_configs[\"fscale_Volcanic\"].values.squeeze(),\n",
    "    specie=\"Volcanic\",\n",
    ")\n",
    "fill(\n",
    "    g.forcing,\n",
    "    solar_forcing[:, None, None] * df_configs[\"fscale_solar_amplitude\"].values.squeeze()\n",
    "    + trend_shape[:, None, None] * df_configs[\"fscale_solar_trend\"].values.squeeze(),\n",
    "    specie=\"Solar\",\n",
    ")"
   ]
  },
  {
   "cell_type": "code",
   "execution_count": null,
   "id": "f283ba85-413e-4663-8385-67b5e51bbc9d",
   "metadata": {},
   "outputs": [],
   "source": [
    "fill(g.forcing, 0, specie='Aerosol-radiation interactions')\n",
    "fill(g.forcing, 0, specie='Aerosol-cloud interactions')"
   ]
  },
  {
   "cell_type": "code",
   "execution_count": null,
   "id": "51c7ca84-d0d0-400a-9e99-33657795f7d5",
   "metadata": {},
   "outputs": [],
   "source": [
    "g.fill_species_configs(filename='../data/species_configs_properties_calibration1.2.0.csv')"
   ]
  },
  {
   "cell_type": "code",
   "execution_count": null,
   "id": "88d27a4c-c1b6-4fe8-9088-2e6044b8ec69",
   "metadata": {},
   "outputs": [],
   "source": [
    "fill(g.climate_configs[\"ocean_heat_capacity\"], df_configs.loc[:, \"clim_c1\":\"clim_c3\"].values)\n",
    "fill(\n",
    "    g.climate_configs[\"ocean_heat_transfer\"],\n",
    "    df_configs.loc[:, \"clim_kappa1\":\"clim_kappa3\"].values,\n",
    ")\n",
    "fill(g.climate_configs[\"deep_ocean_efficacy\"], df_configs[\"clim_epsilon\"].values.squeeze())\n",
    "fill(g.climate_configs[\"gamma_autocorrelation\"], df_configs[\"clim_gamma\"].values.squeeze())\n",
    "fill(g.climate_configs[\"sigma_eta\"], df_configs[\"clim_sigma_eta\"].values.squeeze())\n",
    "fill(g.climate_configs[\"sigma_xi\"], df_configs[\"clim_sigma_xi\"].values.squeeze())\n",
    "fill(g.climate_configs[\"seed\"], df_configs[\"seed\"])\n",
    "fill(g.climate_configs[\"stochastic_run\"], False)\n",
    "fill(g.climate_configs[\"use_seed\"], True)\n",
    "fill(g.climate_configs[\"forcing_4co2\"], df_configs[\"clim_F_4xCO2\"])"
   ]
  },
  {
   "cell_type": "code",
   "execution_count": null,
   "id": "ba93c188-152a-4a46-b01a-8a1d28a0da8d",
   "metadata": {},
   "outputs": [],
   "source": [
    "# carbon cycle\n",
    "fill(g.species_configs[\"iirf_0\"], df_configs[\"cc_r0\"].values.squeeze(), specie=\"CO2\")\n",
    "fill(g.species_configs[\"iirf_airborne\"], df_configs[\"cc_rA\"].values.squeeze(), specie=\"CO2\")\n",
    "fill(g.species_configs[\"iirf_uptake\"], df_configs[\"cc_rU\"].values.squeeze(), specie=\"CO2\")\n",
    "fill(g.species_configs[\"iirf_temperature\"], df_configs[\"cc_rT\"].values.squeeze(), specie=\"CO2\")\n",
    "\n",
    "# aerosol indirect\n",
    "fill(g.species_configs[\"aci_scale\"], df_configs[\"aci_beta\"].values.squeeze())\n",
    "fill(g.species_configs[\"aci_shape\"], df_configs[\"aci_shape_so2\"].values.squeeze(), specie=\"Sulfur\")\n",
    "fill(g.species_configs[\"aci_shape\"], df_configs[\"aci_shape_bc\"].values.squeeze(), specie=\"BC\")\n",
    "fill(g.species_configs[\"aci_shape\"], df_configs[\"aci_shape_oc\"].values.squeeze(), specie=\"OC\")\n",
    "\n",
    "# aerosol direct\n",
    "for specie in [\n",
    "    \"BC\", \n",
    "    \"CH4\", \n",
    "    \"N2O\",\n",
    "    \"NH3\", \n",
    "    \"NOx\",\n",
    "    \"OC\", \n",
    "    \"Sulfur\", \n",
    "    \"VOC\",\n",
    "    \"Equivalent effective stratospheric chlorine\"\n",
    "]:\n",
    "    fill(g.species_configs[\"erfari_radiative_efficiency\"], df_configs[f\"ari_{specie}\"], specie=specie)\n",
    "\n",
    "# forcing scaling\n",
    "for specie in [\n",
    "    \"CO2\", \n",
    "    \"CH4\", \n",
    "    \"N2O\", \n",
    "    \"Stratospheric water vapour\",\n",
    "    \"Contrails\", \n",
    "    \"Light absorbing particles on snow and ice\", \n",
    "    \"Land use\"\n",
    "]:\n",
    "    fill(g.species_configs[\"forcing_scale\"], df_configs[f\"fscale_{specie}\"].values.squeeze(), specie=specie)\n",
    "# the halogenated gases all take the same scale factor\n",
    "for specie in [\n",
    "    \"CFC-11\",\n",
    "    \"CFC-12\",\n",
    "    \"CFC-113\",\n",
    "    \"CFC-114\",\n",
    "    \"CFC-115\",\n",
    "    \"HCFC-22\",\n",
    "    \"HCFC-141b\",\n",
    "    \"HCFC-142b\",\n",
    "    \"CCl4\",\n",
    "    \"CHCl3\",\n",
    "    \"CH2Cl2\",\n",
    "    \"CH3Cl\",\n",
    "    \"CH3CCl3\",\n",
    "    \"CH3Br\",\n",
    "    \"Halon-1211\",\n",
    "    \"Halon-1301\",\n",
    "    \"Halon-2402\",\n",
    "    \"CF4\",\n",
    "    \"C2F6\",\n",
    "    \"C3F8\",\n",
    "    \"c-C4F8\",\n",
    "    \"C4F10\",\n",
    "    \"C5F12\",\n",
    "    \"C6F14\",\n",
    "    \"C7F16\",\n",
    "    \"C8F18\",\n",
    "    \"NF3\",\n",
    "    \"SF6\",\n",
    "    \"SO2F2\",\n",
    "    \"HFC-125\",\n",
    "    \"HFC-134a\",\n",
    "    \"HFC-143a\",\n",
    "    \"HFC-152a\",\n",
    "    \"HFC-227ea\",\n",
    "    \"HFC-23\",\n",
    "    \"HFC-236fa\",\n",
    "    \"HFC-245fa\",\n",
    "    \"HFC-32\",\n",
    "    \"HFC-365mfc\",\n",
    "    \"HFC-4310mee\",\n",
    "]:\n",
    "    fill(g.species_configs[\"forcing_scale\"], df_configs[\"fscale_minorGHG\"].values.squeeze(), specie=specie)\n",
    "\n",
    "# ozone\n",
    "for specie in [\"CH4\", \"N2O\", \"Equivalent effective stratospheric chlorine\", \"CO\", \"VOC\", \"NOx\"]:\n",
    "    fill(g.species_configs[\"ozone_radiative_efficiency\"], df_configs[f\"o3_{specie}\"], specie=specie)\n",
    "\n",
    "# initial value of CO2 concentration (but not baseline for forcing calculations)\n",
    "fill(\n",
    "    g.species_configs[\"baseline_concentration\"], \n",
    "    df_configs[\"cc_co2_concentration_1750\"].values.squeeze(), \n",
    "    specie=\"CO2\"\n",
    ")"
   ]
  },
  {
   "cell_type": "code",
   "execution_count": null,
   "id": "2bdc00a5-5cac-4c60-b9ed-ddde282ec03f",
   "metadata": {},
   "outputs": [],
   "source": [
    "initialise(g.concentration, g.species_configs[\"baseline_concentration\"])\n",
    "initialise(g.forcing, 0)\n",
    "initialise(g.temperature, 0)\n",
    "initialise(g.cumulative_emissions, 0)\n",
    "initialise(g.airborne_emissions, 0)"
   ]
  },
  {
   "cell_type": "code",
   "execution_count": null,
   "id": "109be618-3644-492f-9705-66ccf11e830a",
   "metadata": {},
   "outputs": [],
   "source": [
    "g.run()"
   ]
  },
  {
   "cell_type": "code",
   "execution_count": null,
   "id": "a7195468-8027-4455-8a83-1a4d947d5674",
   "metadata": {},
   "outputs": [],
   "source": [
    "pl.plot(g.temperature.loc[dict(layer=0)].median(axis=2))"
   ]
  },
  {
   "cell_type": "code",
   "execution_count": null,
   "id": "c920efbf-257d-4943-ae46-81febecd14bc",
   "metadata": {},
   "outputs": [],
   "source": [
    "pl.plot((f.temperature.loc[dict(layer=0)] - g.temperature.loc[dict(layer=0)]).median(axis=2))"
   ]
  },
  {
   "cell_type": "code",
   "execution_count": null,
   "id": "26155eef-93ed-4189-b1fc-5cdbae15c9fd",
   "metadata": {},
   "outputs": [],
   "source": [
    "pl.plot(f.forcing_sum.median(axis=2))\n",
    "pl.ylim(0, 3.1)"
   ]
  },
  {
   "cell_type": "code",
   "execution_count": null,
   "id": "124ca118-d145-4bc4-9ddc-7fc9d478c959",
   "metadata": {},
   "outputs": [],
   "source": [
    "pl.plot(g.forcing_sum.median(axis=2))\n",
    "pl.ylim(1.5, 4.6)"
   ]
  },
  {
   "cell_type": "code",
   "execution_count": null,
   "id": "69d21f39-04c9-4094-8e87-b80e9061af1a",
   "metadata": {},
   "outputs": [],
   "source": [
    "pl.plot((f.forcing_sum-g.forcing_sum).median(axis=2))"
   ]
  },
  {
   "cell_type": "code",
   "execution_count": null,
   "id": "9a33ad3e-a59e-49fe-b820-af5dcd31ecd4",
   "metadata": {},
   "outputs": [],
   "source": [
    "f.forcing_sum.median(axis=2)"
   ]
  },
  {
   "cell_type": "code",
   "execution_count": null,
   "id": "d542e8a7-4122-4273-9bf4-602443e782f0",
   "metadata": {},
   "outputs": [],
   "source": [
    "pl.plot((f.forcing_sum).median(axis=2))"
   ]
  },
  {
   "cell_type": "code",
   "execution_count": null,
   "id": "7e9adc6d-10f0-4eed-821f-7a8fe1400041",
   "metadata": {},
   "outputs": [],
   "source": [
    "pl.plot((g.forcing_sum).median(axis=2))"
   ]
  },
  {
   "cell_type": "code",
   "execution_count": null,
   "id": "e643ade0-063a-431e-849d-1a17690ee601",
   "metadata": {},
   "outputs": [],
   "source": [
    "pl.plot(np.percentile(f.temperature.loc[dict(layer=0)] - g.temperature.loc[dict(layer=0)], 5, axis=2))\n",
    "pl.plot((f.temperature.loc[dict(layer=0)] - g.temperature.loc[dict(layer=0)]).median(axis=2))\n",
    "pl.plot(np.percentile(f.temperature.loc[dict(layer=0)] - g.temperature.loc[dict(layer=0)], 95, axis=2))"
   ]
  },
  {
   "cell_type": "code",
   "execution_count": null,
   "id": "66189ee6-9d31-4a59-95e3-0adecef147d8",
   "metadata": {},
   "outputs": [],
   "source": [
    "pl.plot(np.percentile(f.temperature.loc[dict(layer=0)], 5, axis=2))\n",
    "pl.plot((f.temperature.loc[dict(layer=0)]).median(axis=2))\n",
    "pl.plot(np.percentile(f.temperature.loc[dict(layer=0)], 95, axis=2))"
   ]
  },
  {
   "cell_type": "code",
   "execution_count": null,
   "id": "ff0f0f01-5a59-47ca-ab58-48f8e2fc2ca1",
   "metadata": {},
   "outputs": [],
   "source": []
  }
 ],
 "metadata": {
  "kernelspec": {
   "display_name": "Python 3 (ipykernel)",
   "language": "python",
   "name": "python3"
  },
  "language_info": {
   "codemirror_mode": {
    "name": "ipython",
    "version": 3
   },
   "file_extension": ".py",
   "mimetype": "text/x-python",
   "name": "python",
   "nbconvert_exporter": "python",
   "pygments_lexer": "ipython3",
   "version": "3.11.6"
  }
 },
 "nbformat": 4,
 "nbformat_minor": 5
}
